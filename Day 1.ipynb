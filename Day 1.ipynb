{
 "cells": [
  {
   "cell_type": "markdown",
   "id": "cf6a8215",
   "metadata": {},
   "source": [
    "#Introduction to Numpy\n",
    "    \n",
    "    "
   ]
  },
  {
   "cell_type": "code",
   "execution_count": 1,
   "id": "00c0b89a",
   "metadata": {},
   "outputs": [
    {
     "name": "stdout",
     "output_type": "stream",
     "text": [
      "Requirement already satisfied: numpy in c:\\users\\ethereal\\anaconda3\\lib\\site-packages (1.24.3)\n"
     ]
    }
   ],
   "source": [
    "!pip install numpy"
   ]
  },
  {
   "cell_type": "markdown",
   "id": "2cbbbdba",
   "metadata": {},
   "source": [
    "    Importing Numpy"
   ]
  },
  {
   "cell_type": "code",
   "execution_count": 2,
   "id": "9faa5df0",
   "metadata": {},
   "outputs": [],
   "source": [
    "import numpy as np #np is alias name"
   ]
  },
  {
   "cell_type": "code",
   "execution_count": 3,
   "id": "a3340d84",
   "metadata": {},
   "outputs": [
    {
     "data": {
      "text/plain": [
       "6"
      ]
     },
     "execution_count": 3,
     "metadata": {},
     "output_type": "execute_result"
    }
   ],
   "source": [
    "even = [6,8,6,4,12,14]\n",
    "len(even)"
   ]
  },
  {
   "cell_type": "code",
   "execution_count": 4,
   "id": "54cd11d2",
   "metadata": {},
   "outputs": [
    {
     "data": {
      "text/plain": [
       "array([ 6,  8,  6,  4, 12, 14])"
      ]
     },
     "execution_count": 4,
     "metadata": {},
     "output_type": "execute_result"
    }
   ],
   "source": [
    "even_array = np.array(even)\n",
    "even_array\n"
   ]
  },
  {
   "cell_type": "code",
   "execution_count": 6,
   "id": "3c156a20",
   "metadata": {},
   "outputs": [
    {
     "data": {
      "text/plain": [
       "6"
      ]
     },
     "execution_count": 6,
     "metadata": {},
     "output_type": "execute_result"
    }
   ],
   "source": [
    "even_array[0]"
   ]
  },
  {
   "cell_type": "code",
   "execution_count": 7,
   "id": "cf2fbbd5",
   "metadata": {},
   "outputs": [
    {
     "data": {
      "text/plain": [
       "8"
      ]
     },
     "execution_count": 7,
     "metadata": {},
     "output_type": "execute_result"
    }
   ],
   "source": [
    "even_array[1]"
   ]
  },
  {
   "cell_type": "code",
   "execution_count": 8,
   "id": "bd821a3f",
   "metadata": {},
   "outputs": [
    {
     "data": {
      "text/plain": [
       "12"
      ]
     },
     "execution_count": 8,
     "metadata": {},
     "output_type": "execute_result"
    }
   ],
   "source": [
    "even_array[4]"
   ]
  },
  {
   "cell_type": "code",
   "execution_count": 9,
   "id": "f3ca8a4c",
   "metadata": {},
   "outputs": [
    {
     "data": {
      "text/plain": [
       "14"
      ]
     },
     "execution_count": 9,
     "metadata": {},
     "output_type": "execute_result"
    }
   ],
   "source": [
    "even_array[-1] #negative indexing"
   ]
  },
  {
   "cell_type": "code",
   "execution_count": 10,
   "id": "a223f119",
   "metadata": {},
   "outputs": [
    {
     "data": {
      "text/plain": [
       "6"
      ]
     },
     "execution_count": 10,
     "metadata": {},
     "output_type": "execute_result"
    }
   ],
   "source": [
    "even_array[-4]"
   ]
  },
  {
   "cell_type": "code",
   "execution_count": 11,
   "id": "e05e602c",
   "metadata": {},
   "outputs": [
    {
     "data": {
      "text/plain": [
       "4"
      ]
     },
     "execution_count": 11,
     "metadata": {},
     "output_type": "execute_result"
    }
   ],
   "source": [
    "even_array[-3]"
   ]
  },
  {
   "cell_type": "code",
   "execution_count": 12,
   "id": "7a52e03e",
   "metadata": {},
   "outputs": [
    {
     "data": {
      "text/plain": [
       "array([8, 6])"
      ]
     },
     "execution_count": 12,
     "metadata": {},
     "output_type": "execute_result"
    }
   ],
   "source": [
    "even_array[1:3] #slicing ma last ko index ko value aaudaina"
   ]
  },
  {
   "cell_type": "code",
   "execution_count": 13,
   "id": "3989b6b3",
   "metadata": {},
   "outputs": [
    {
     "data": {
      "text/plain": [
       "1"
      ]
     },
     "execution_count": 13,
     "metadata": {},
     "output_type": "execute_result"
    }
   ],
   "source": [
    "even_array.ndim"
   ]
  },
  {
   "cell_type": "markdown",
   "id": "08cc3b3c",
   "metadata": {},
   "source": [
    "# Difference between list and array\n",
    "\n",
    "- Numpy array are faster than python list \n",
    "- Numpy array are memory efficient than python list\n",
    "- Numpy array supports homogeneous data type while pythonlist supports multiple data type\n",
    "- \n"
   ]
  },
  {
   "cell_type": "code",
   "execution_count": 15,
   "id": "c02aba51",
   "metadata": {},
   "outputs": [
    {
     "data": {
      "text/plain": [
       "array([0, 0, 0, 0, 0], dtype=int8)"
      ]
     },
     "execution_count": 15,
     "metadata": {},
     "output_type": "execute_result"
    }
   ],
   "source": [
    "x = np.zeros(5,dtype = np.int8)\n",
    "x"
   ]
  },
  {
   "cell_type": "code",
   "execution_count": 18,
   "id": "a427aa2b",
   "metadata": {},
   "outputs": [
    {
     "data": {
      "text/plain": [
       "array([1., 1., 1.], dtype=float16)"
      ]
     },
     "execution_count": 18,
     "metadata": {},
     "output_type": "execute_result"
    }
   ],
   "source": [
    "np.ones(3,dtype = np.float16)"
   ]
  },
  {
   "cell_type": "code",
   "execution_count": 34,
   "id": "9c6a7054",
   "metadata": {},
   "outputs": [
    {
     "data": {
      "text/plain": [
       "3"
      ]
     },
     "execution_count": 34,
     "metadata": {},
     "output_type": "execute_result"
    }
   ],
   "source": [
    "np.random.randint(0,10) #non deterministic random number generation"
   ]
  },
  {
   "cell_type": "code",
   "execution_count": 44,
   "id": "0eceac27",
   "metadata": {},
   "outputs": [
    {
     "data": {
      "text/plain": [
       "5"
      ]
     },
     "execution_count": 44,
     "metadata": {},
     "output_type": "execute_result"
    }
   ],
   "source": [
    "np.random.seed(0)\n",
    "np.random.randint(0,10)"
   ]
  },
  {
   "cell_type": "code",
   "execution_count": 49,
   "id": "f5f22112",
   "metadata": {},
   "outputs": [],
   "source": [
    "np.random.seed(2024)\n",
    "x = np.random.randint(1,10, size = 50000)"
   ]
  },
  {
   "cell_type": "code",
   "execution_count": 50,
   "id": "37fbd1b5",
   "metadata": {},
   "outputs": [],
   "source": [
    "x_list = x.tolist() # converts array into list"
   ]
  },
  {
   "cell_type": "code",
   "execution_count": 53,
   "id": "2f4ba595",
   "metadata": {},
   "outputs": [],
   "source": [
    "a = [8,9,7]\n",
    "sq = []\n",
    "for item in a:\n",
    "    sq.append(item ** 2)"
   ]
  },
  {
   "cell_type": "code",
   "execution_count": 54,
   "id": "158ad31d",
   "metadata": {},
   "outputs": [
    {
     "data": {
      "text/plain": [
       "[64, 81, 49]"
      ]
     },
     "execution_count": 54,
     "metadata": {},
     "output_type": "execute_result"
    }
   ],
   "source": [
    "sq"
   ]
  },
  {
   "cell_type": "code",
   "execution_count": 55,
   "id": "efcf1ad6",
   "metadata": {},
   "outputs": [
    {
     "data": {
      "text/plain": [
       "[64, 81, 49]"
      ]
     },
     "execution_count": 55,
     "metadata": {},
     "output_type": "execute_result"
    }
   ],
   "source": [
    "[item ** 2 for item in a] #list comprehension"
   ]
  },
  {
   "cell_type": "code",
   "execution_count": 57,
   "id": "44ebdb12",
   "metadata": {},
   "outputs": [
    {
     "name": "stdout",
     "output_type": "stream",
     "text": [
      "CPU times: total: 15.6 ms\n",
      "Wall time: 10.9 ms\n"
     ]
    },
    {
     "name": "stderr",
     "output_type": "stream",
     "text": [
      "<unknown>:1: SyntaxWarning: invalid decimal literal\n"
     ]
    }
   ],
   "source": [
    "%%time \n",
    "sq = [item ** 2for item in x_list]"
   ]
  },
  {
   "cell_type": "code",
   "execution_count": 58,
   "id": "d2fbf25e",
   "metadata": {},
   "outputs": [
    {
     "name": "stdout",
     "output_type": "stream",
     "text": [
      "CPU times: total: 0 ns\n",
      "Wall time: 998 µs\n"
     ]
    }
   ],
   "source": [
    "%%time\n",
    "sq = x ** 2\n"
   ]
  },
  {
   "cell_type": "markdown",
   "id": "0ca17620",
   "metadata": {},
   "source": [
    " .linspace()"
   ]
  },
  {
   "cell_type": "code",
   "execution_count": 59,
   "id": "ed8f0841",
   "metadata": {},
   "outputs": [
    {
     "data": {
      "text/plain": [
       "array([0.  , 0.25, 0.5 , 0.75, 1.  ])"
      ]
     },
     "execution_count": 59,
     "metadata": {},
     "output_type": "execute_result"
    }
   ],
   "source": [
    "np.linspace(0,1,5)"
   ]
  },
  {
   "cell_type": "code",
   "execution_count": 61,
   "id": "c891a89f",
   "metadata": {},
   "outputs": [
    {
     "data": {
      "text/plain": [
       "array([11, 12, 13, 14, 15, 16, 17, 18, 19, 20, 21, 22, 23])"
      ]
     },
     "execution_count": 61,
     "metadata": {},
     "output_type": "execute_result"
    }
   ],
   "source": [
    "np.arange(11,24,1)"
   ]
  },
  {
   "cell_type": "code",
   "execution_count": 62,
   "id": "3833a367",
   "metadata": {},
   "outputs": [],
   "source": [
    "x = np.array([4,9])\n",
    "y = np.array([2,3])"
   ]
  },
  {
   "cell_type": "code",
   "execution_count": 64,
   "id": "e8f9a9b2",
   "metadata": {},
   "outputs": [
    {
     "data": {
      "text/plain": [
       "array([ 6, 12])"
      ]
     },
     "execution_count": 64,
     "metadata": {},
     "output_type": "execute_result"
    }
   ],
   "source": [
    "x + y #element wise addition or vector addition"
   ]
  },
  {
   "cell_type": "code",
   "execution_count": 65,
   "id": "39f31498",
   "metadata": {},
   "outputs": [
    {
     "data": {
      "text/plain": [
       "array([2., 3.])"
      ]
     },
     "execution_count": 65,
     "metadata": {},
     "output_type": "execute_result"
    }
   ],
   "source": [
    "x / y"
   ]
  },
  {
   "cell_type": "code",
   "execution_count": 68,
   "id": "eb8b3edd",
   "metadata": {},
   "outputs": [
    {
     "data": {
      "text/plain": [
       "array([ 8, 27])"
      ]
     },
     "execution_count": 68,
     "metadata": {},
     "output_type": "execute_result"
    }
   ],
   "source": [
    "x*y"
   ]
  },
  {
   "cell_type": "markdown",
   "id": "b577b347",
   "metadata": {},
   "source": [
    " Statistics"
   ]
  },
  {
   "cell_type": "code",
   "execution_count": 71,
   "id": "04cdcc54",
   "metadata": {},
   "outputs": [],
   "source": [
    "x = np.random.randint(1,20,size = 40)"
   ]
  },
  {
   "cell_type": "code",
   "execution_count": 72,
   "id": "f53f73b8",
   "metadata": {},
   "outputs": [
    {
     "data": {
      "text/plain": [
       "array([13, 14,  8, 11, 16,  6, 16,  8,  5,  1, 17,  5, 18, 11, 11, 19, 15,\n",
       "        8, 15, 11,  4, 17, 10,  4,  3, 14,  7,  1,  5, 16, 14, 16,  7, 14,\n",
       "       14, 11,  2,  2, 12, 11])"
      ]
     },
     "execution_count": 72,
     "metadata": {},
     "output_type": "execute_result"
    }
   ],
   "source": [
    "x"
   ]
  },
  {
   "cell_type": "code",
   "execution_count": 73,
   "id": "f4f9f543",
   "metadata": {},
   "outputs": [
    {
     "data": {
      "text/plain": [
       "10.3"
      ]
     },
     "execution_count": 73,
     "metadata": {},
     "output_type": "execute_result"
    }
   ],
   "source": [
    "np.mean(x)"
   ]
  },
  {
   "cell_type": "code",
   "execution_count": 74,
   "id": "61d91296",
   "metadata": {},
   "outputs": [
    {
     "data": {
      "text/plain": [
       "11.0"
      ]
     },
     "execution_count": 74,
     "metadata": {},
     "output_type": "execute_result"
    }
   ],
   "source": [
    "np.median(x)"
   ]
  },
  {
   "cell_type": "code",
   "execution_count": 75,
   "id": "f7b59fa0",
   "metadata": {},
   "outputs": [
    {
     "data": {
      "text/plain": [
       "5.158488150611572"
      ]
     },
     "execution_count": 75,
     "metadata": {},
     "output_type": "execute_result"
    }
   ],
   "source": [
    "np.std(x)"
   ]
  },
  {
   "cell_type": "code",
   "execution_count": 76,
   "id": "d89856df",
   "metadata": {},
   "outputs": [
    {
     "data": {
      "text/plain": [
       "ModeResult(mode=11, count=6)"
      ]
     },
     "execution_count": 76,
     "metadata": {},
     "output_type": "execute_result"
    }
   ],
   "source": [
    "from scipy.stats import mode\n",
    "mode(x)"
   ]
  },
  {
   "cell_type": "code",
   "execution_count": 77,
   "id": "38ba4d45",
   "metadata": {},
   "outputs": [
    {
     "data": {
      "text/plain": [
       "26.610000000000003"
      ]
     },
     "execution_count": 77,
     "metadata": {},
     "output_type": "execute_result"
    }
   ],
   "source": [
    "np.var(x) #variance"
   ]
  },
  {
   "cell_type": "markdown",
   "id": "ff4b732e",
   "metadata": {},
   "source": [
    "# 2D array"
   ]
  },
  {
   "cell_type": "code",
   "execution_count": 79,
   "id": "bac78a09",
   "metadata": {},
   "outputs": [
    {
     "data": {
      "text/plain": [
       "array([[1, 2, 3],\n",
       "       [4, 5, 6],\n",
       "       [7, 8, 9]])"
      ]
     },
     "execution_count": 79,
     "metadata": {},
     "output_type": "execute_result"
    }
   ],
   "source": [
    "matrix = np.array([[1,2,3],[4,5,6],[7,8,9]])\n",
    "matrix"
   ]
  },
  {
   "cell_type": "code",
   "execution_count": 80,
   "id": "02749d1d",
   "metadata": {},
   "outputs": [
    {
     "data": {
      "text/plain": [
       "2"
      ]
     },
     "execution_count": 80,
     "metadata": {},
     "output_type": "execute_result"
    }
   ],
   "source": [
    "matrix.ndim"
   ]
  },
  {
   "cell_type": "code",
   "execution_count": 82,
   "id": "81b2d68c",
   "metadata": {},
   "outputs": [
    {
     "data": {
      "text/plain": [
       "6"
      ]
     },
     "execution_count": 82,
     "metadata": {},
     "output_type": "execute_result"
    }
   ],
   "source": [
    "matrix[1,2]"
   ]
  },
  {
   "cell_type": "code",
   "execution_count": 83,
   "id": "4de902bb",
   "metadata": {},
   "outputs": [
    {
     "data": {
      "text/plain": [
       "8"
      ]
     },
     "execution_count": 83,
     "metadata": {},
     "output_type": "execute_result"
    }
   ],
   "source": [
    "matrix [2,1]"
   ]
  },
  {
   "cell_type": "code",
   "execution_count": 85,
   "id": "37dc9144",
   "metadata": {},
   "outputs": [
    {
     "data": {
      "text/plain": [
       "array([[5, 6],\n",
       "       [8, 9]])"
      ]
     },
     "execution_count": 85,
     "metadata": {},
     "output_type": "execute_result"
    }
   ],
   "source": [
    "matrix[1:,1:]"
   ]
  },
  {
   "cell_type": "code",
   "execution_count": null,
   "id": "e59d768a",
   "metadata": {},
   "outputs": [],
   "source": []
  }
 ],
 "metadata": {
  "kernelspec": {
   "display_name": "Python 3 (ipykernel)",
   "language": "python",
   "name": "python3"
  },
  "language_info": {
   "codemirror_mode": {
    "name": "ipython",
    "version": 3
   },
   "file_extension": ".py",
   "mimetype": "text/x-python",
   "name": "python",
   "nbconvert_exporter": "python",
   "pygments_lexer": "ipython3",
   "version": "3.11.5"
  }
 },
 "nbformat": 4,
 "nbformat_minor": 5
}
